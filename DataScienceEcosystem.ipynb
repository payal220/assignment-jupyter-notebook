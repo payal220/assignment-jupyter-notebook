{
 "cells": [
  {
   "cell_type": "markdown",
   "id": "6ffd04cc-f65d-46ef-aef4-2d57aa6a7a03",
   "metadata": {},
   "source": [
    "# Data Science Tools and Ecosystem"
   ]
  },
  {
   "cell_type": "markdown",
   "id": "d7c91031-faf7-496a-bbce-c2435cf7308f",
   "metadata": {},
   "source": [
    "In this notebook, Data Science Tools and Ecosystem are summarized.\n"
   ]
  },
  {
   "cell_type": "markdown",
   "id": "a91ad656-2ee6-429b-ada3-5ed11a9792aa",
   "metadata": {},
   "source": [
    "**Objectives:**\n",
    "\n",
    "List popular languages for Data Science:\n",
    "+ R\n",
    "+ Python\n",
    "+ Sql"
   ]
  },
  {
   "cell_type": "markdown",
   "id": "3a6ca130-c489-4125-b47b-e6d93aacbd59",
   "metadata": {},
   "source": [
    "Some of the popular languages that Data Scientists use are:\n",
    "1. R\n",
    "2. Python\n",
    "3. SQL\n"
   ]
  },
  {
   "cell_type": "markdown",
   "id": "86191bb5-a2b1-4776-bbd5-51a608d91ac4",
   "metadata": {},
   "source": [
    "Some of the commonly used libraries used by Data Scientists include:\n",
    "1. Pandas\n",
    "2. Matplotlib\n",
    "3. Numpy\n",
    "\n",
    "\n"
   ]
  },
  {
   "cell_type": "markdown",
   "id": "a133b16c-ba72-488b-9cdf-18751e0cb48c",
   "metadata": {},
   "source": [
    "|Data Science Tools |\n",
    "|-------------------|\n",
    "|Jupyter Notebook   |\n",
    "|Scikit-learn       |\n",
    "|Tensorflow         |\n",
    "\n"
   ]
  },
  {
   "cell_type": "markdown",
   "id": "9629887e-ceb3-4691-8e5c-a3ea70c38cb6",
   "metadata": {},
   "source": [
    "###Below are a few examples of evaluating arithmetic expressions in Python:\n",
    "\n",
    "result = 5 + 3\n",
    "print(result)"
   ]
  },
  {
   "cell_type": "code",
   "execution_count": 22,
   "id": "c5fc664e-8c6b-4f81-a3d6-a3974be6ec0d",
   "metadata": {},
   "outputs": [
    {
     "data": {
      "text/plain": [
       "17"
      ]
     },
     "execution_count": 22,
     "metadata": {},
     "output_type": "execute_result"
    }
   ],
   "source": [
    "(3*4)+5 #This a simple arithmetic expression to mutiply then add integers\n"
   ]
  },
  {
   "cell_type": "code",
   "execution_count": 30,
   "id": "8b01aa37-0952-454b-87cf-b0afeb2f3ee8",
   "metadata": {},
   "outputs": [
    {
     "name": "stdout",
     "output_type": "stream",
     "text": [
      "3.3333333333333335\n"
     ]
    }
   ],
   "source": [
    "min=200\n",
    "hours=min/60 #This will convert 200 minutes to hours by diving by 60\n",
    "print (hours)"
   ]
  },
  {
   "cell_type": "markdown",
   "id": "d27809df-19e8-440d-a8ca-bcb87405358b",
   "metadata": {},
   "source": [
    "## Author\n",
    "Payal PAL"
   ]
  },
  {
   "cell_type": "code",
   "execution_count": null,
   "id": "7cbf9d9b-f164-4ade-a17a-1a13149d9af0",
   "metadata": {},
   "outputs": [],
   "source": []
  }
 ],
 "metadata": {
  "kernelspec": {
   "display_name": "Python [conda env:base] *",
   "language": "python",
   "name": "conda-base-py"
  },
  "language_info": {
   "codemirror_mode": {
    "name": "ipython",
    "version": 3
   },
   "file_extension": ".py",
   "mimetype": "text/x-python",
   "name": "python",
   "nbconvert_exporter": "python",
   "pygments_lexer": "ipython3",
   "version": "3.12.7"
  }
 },
 "nbformat": 4,
 "nbformat_minor": 5
}
